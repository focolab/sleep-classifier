{
 "cells": [
  {
   "cell_type": "markdown",
   "metadata": {},
   "source": [
    "## autoscorer demo"
   ]
  },
  {
   "cell_type": "code",
   "execution_count": null,
   "metadata": {},
   "outputs": [],
   "source": [
    "import autoscore as asc\n",
    "%matplotlib inline"
   ]
  },
  {
   "cell_type": "code",
   "execution_count": null,
   "metadata": {},
   "outputs": [],
   "source": [
    "# declare data and parameters\n",
    "data = dict(edf='../example_data/374.edf', trial=374, day=1)\n",
    "params = dict(ft='param-feat-rmspow-2D.json', pmin=0.95, dest='ANL-autoscore/data')"
   ]
  },
  {
   "cell_type": "code",
   "execution_count": null,
   "metadata": {},
   "outputs": [],
   "source": [
    "# Make the AutoScorer and do full_run()\n",
    "# (this will featurize, score, plot and export)\n",
    "x = asc.AutoScorer(data=data, **params).full_run()"
   ]
  },
  {
   "cell_type": "code",
   "execution_count": null,
   "metadata": {},
   "outputs": [],
   "source": [
    "# plot the results (the same plot was also exported during full_run())\n",
    "f, a1, a2 = x.plot()"
   ]
  },
  {
   "cell_type": "code",
   "execution_count": null,
   "metadata": {},
   "outputs": [],
   "source": [
    "# loop over multiple trials\n",
    "d1 = dict(edf='../example_data/335.edf', trial=335, day=1)\n",
    "d2 = dict(edf='../example_data/336.edf', trial=336, day=1)\n",
    "d3 = dict(edf='../example_data/374.edf', trial=374, day=1)\n",
    "data = [d1, d2, d3]\n",
    "\n",
    "autoscorers = []\n",
    "for d in data:\n",
    "    x = asc.AutoScorer(data=d, **params).full_run()\n",
    "    autoscorers.append(x)"
   ]
  },
  {
   "cell_type": "code",
   "execution_count": null,
   "metadata": {},
   "outputs": [],
   "source": [
    "# consolidate score fraction data\n",
    "import pandas as pd\n",
    "\n",
    "df = pd.concat([x.scores_frac.df for x in autoscorers])\n",
    "df = df[df['feature'] == 'consensus'].reset_index(drop=True)\n",
    "df.head(10)"
   ]
  }
 ],
 "metadata": {
  "kernelspec": {
   "display_name": "Python 3",
   "language": "python",
   "name": "python3"
  },
  "language_info": {
   "codemirror_mode": {
    "name": "ipython",
    "version": 3
   },
   "file_extension": ".py",
   "mimetype": "text/x-python",
   "name": "python",
   "nbconvert_exporter": "python",
   "pygments_lexer": "ipython3",
   "version": "3.7.6"
  }
 },
 "nbformat": 4,
 "nbformat_minor": 4
}
